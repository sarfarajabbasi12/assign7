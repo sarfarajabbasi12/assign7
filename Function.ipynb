{
 "cells": [
  {
   "cell_type": "code",
   "execution_count": 1,
   "id": "6ffa1945-9d3b-49d2-a058-434808f18539",
   "metadata": {},
   "outputs": [],
   "source": [
    "l = [1,2,3,4,5]"
   ]
  },
  {
   "cell_type": "code",
   "execution_count": 2,
   "id": "da734652-d0bf-40d0-9f51-d28aa969e7ad",
   "metadata": {},
   "outputs": [
    {
     "data": {
      "text/plain": [
       "[1, 2, 3, 4, 5]"
      ]
     },
     "execution_count": 2,
     "metadata": {},
     "output_type": "execute_result"
    }
   ],
   "source": [
    "l"
   ]
  },
  {
   "cell_type": "code",
   "execution_count": 3,
   "id": "2572edfa-9ce8-4ba3-8d14-832351b51162",
   "metadata": {},
   "outputs": [
    {
     "data": {
      "text/plain": [
       "5"
      ]
     },
     "execution_count": 3,
     "metadata": {},
     "output_type": "execute_result"
    }
   ],
   "source": [
    "len(l)"
   ]
  },
  {
   "cell_type": "code",
   "execution_count": 4,
   "id": "cd69e92e-6016-4db3-abfb-1544b07061dd",
   "metadata": {},
   "outputs": [
    {
     "data": {
      "text/plain": [
       "list"
      ]
     },
     "execution_count": 4,
     "metadata": {},
     "output_type": "execute_result"
    }
   ],
   "source": [
    "type(l)"
   ]
  },
  {
   "cell_type": "code",
   "execution_count": 5,
   "id": "08f43cd8-35da-4d14-b63b-c1eb745d5712",
   "metadata": {},
   "outputs": [],
   "source": [
    "def test1():\n",
    "    print('This is my very very first function')"
   ]
  },
  {
   "cell_type": "code",
   "execution_count": 6,
   "id": "d05de7b8-6531-4515-b125-79fb435d3baf",
   "metadata": {},
   "outputs": [
    {
     "name": "stdout",
     "output_type": "stream",
     "text": [
      "This is my very very first function\n"
     ]
    }
   ],
   "source": [
    "test1()"
   ]
  },
  {
   "cell_type": "code",
   "execution_count": 7,
   "id": "7bef4daf-fd4c-4a83-98b9-98705c4b70d5",
   "metadata": {},
   "outputs": [
    {
     "data": {
      "text/plain": [
       "function"
      ]
     },
     "execution_count": 7,
     "metadata": {},
     "output_type": "execute_result"
    }
   ],
   "source": [
    "type(test1)"
   ]
  },
  {
   "cell_type": "code",
   "execution_count": 8,
   "id": "3a5f437c-49b3-4ed3-87eb-6364781a4119",
   "metadata": {},
   "outputs": [],
   "source": [
    "def test2() :\n",
    "    return 'my name is saif'"
   ]
  },
  {
   "cell_type": "code",
   "execution_count": 9,
   "id": "1050ae88-aa0e-4449-8f84-a5adb422c930",
   "metadata": {},
   "outputs": [
    {
     "data": {
      "text/plain": [
       "'my name is saif'"
      ]
     },
     "execution_count": 9,
     "metadata": {},
     "output_type": "execute_result"
    }
   ],
   "source": [
    "test2()"
   ]
  },
  {
   "cell_type": "code",
   "execution_count": 10,
   "id": "0c3a9261-1d97-4cf7-841d-59645f495aca",
   "metadata": {},
   "outputs": [
    {
     "data": {
      "text/plain": [
       "'my name is saif and yours'"
      ]
     },
     "execution_count": 10,
     "metadata": {},
     "output_type": "execute_result"
    }
   ],
   "source": [
    "test2() + ' and yours'"
   ]
  },
  {
   "cell_type": "code",
   "execution_count": 11,
   "id": "d29b2999-3131-4290-8110-c4b437ea8a1d",
   "metadata": {},
   "outputs": [],
   "source": [
    "def test3() :\n",
    "    return 'saif',80,11.12,[25,26,7]"
   ]
  },
  {
   "cell_type": "code",
   "execution_count": 12,
   "id": "be5b4039-d04b-4393-aa57-61d7917c0397",
   "metadata": {},
   "outputs": [
    {
     "data": {
      "text/plain": [
       "('saif', 80, 11.12, [25, 26, 7])"
      ]
     },
     "execution_count": 12,
     "metadata": {},
     "output_type": "execute_result"
    }
   ],
   "source": [
    "test3()"
   ]
  },
  {
   "cell_type": "code",
   "execution_count": 13,
   "id": "ec80a58c-aa3a-43a0-8712-aee3c3171a96",
   "metadata": {},
   "outputs": [],
   "source": [
    "a,b,c,d = test3()"
   ]
  },
  {
   "cell_type": "code",
   "execution_count": 14,
   "id": "cefedea0-1f5b-4f81-88c6-341bfa41aced",
   "metadata": {},
   "outputs": [
    {
     "data": {
      "text/plain": [
       "'saif'"
      ]
     },
     "execution_count": 14,
     "metadata": {},
     "output_type": "execute_result"
    }
   ],
   "source": [
    "a"
   ]
  },
  {
   "cell_type": "code",
   "execution_count": 15,
   "id": "b7ce9c52-ffd0-4a3b-a111-fe171193e647",
   "metadata": {},
   "outputs": [
    {
     "data": {
      "text/plain": [
       "80"
      ]
     },
     "execution_count": 15,
     "metadata": {},
     "output_type": "execute_result"
    }
   ],
   "source": [
    "b"
   ]
  },
  {
   "cell_type": "code",
   "execution_count": 16,
   "id": "a22f3b9a-6b83-465a-8216-0a130a35d98f",
   "metadata": {},
   "outputs": [
    {
     "data": {
      "text/plain": [
       "11.12"
      ]
     },
     "execution_count": 16,
     "metadata": {},
     "output_type": "execute_result"
    }
   ],
   "source": [
    "c"
   ]
  },
  {
   "cell_type": "code",
   "execution_count": 17,
   "id": "d67077a0-6054-40ff-958d-ff16cb928c6e",
   "metadata": {},
   "outputs": [
    {
     "data": {
      "text/plain": [
       "[25, 26, 7]"
      ]
     },
     "execution_count": 17,
     "metadata": {},
     "output_type": "execute_result"
    }
   ],
   "source": [
    "d"
   ]
  },
  {
   "cell_type": "code",
   "execution_count": 18,
   "id": "e6bf093d-57e5-481d-b3c0-2369144707c9",
   "metadata": {},
   "outputs": [],
   "source": [
    "def test4():\n",
    "    a = 5+3\n",
    "    return a"
   ]
  },
  {
   "cell_type": "code",
   "execution_count": 19,
   "id": "8c680950-ab62-4628-a610-7a22f7975151",
   "metadata": {},
   "outputs": [
    {
     "data": {
      "text/plain": [
       "8"
      ]
     },
     "execution_count": 19,
     "metadata": {},
     "output_type": "execute_result"
    }
   ],
   "source": [
    "test4()"
   ]
  },
  {
   "cell_type": "code",
   "execution_count": 20,
   "id": "777f27eb-943b-45e4-bef4-65f67ae7e0e0",
   "metadata": {},
   "outputs": [],
   "source": [
    "def test5(a,b) :\n",
    "    d = a+b\n",
    "    return d"
   ]
  },
  {
   "cell_type": "code",
   "execution_count": 21,
   "id": "befa7ff7-dbdc-44cf-a593-c398af075a1a",
   "metadata": {},
   "outputs": [
    {
     "data": {
      "text/plain": [
       "10"
      ]
     },
     "execution_count": 21,
     "metadata": {},
     "output_type": "execute_result"
    }
   ],
   "source": [
    "test5(5,5)"
   ]
  },
  {
   "cell_type": "code",
   "execution_count": 22,
   "id": "ff66e3b9-5c8e-4ad7-970f-b65e87c5c46f",
   "metadata": {},
   "outputs": [],
   "source": [
    "def test6(a,b):\n",
    "    return a+b"
   ]
  },
  {
   "cell_type": "code",
   "execution_count": 23,
   "id": "896cdff7-1eb2-4cd6-85a7-ea41095402ff",
   "metadata": {},
   "outputs": [
    {
     "data": {
      "text/plain": [
       "7"
      ]
     },
     "execution_count": 23,
     "metadata": {},
     "output_type": "execute_result"
    }
   ],
   "source": [
    "test6(5,2)"
   ]
  },
  {
   "cell_type": "code",
   "execution_count": 24,
   "id": "c25c7a37-5952-4b8d-8573-c4a8d45b7dcf",
   "metadata": {},
   "outputs": [
    {
     "data": {
      "text/plain": [
       "'saifsudh'"
      ]
     },
     "execution_count": 24,
     "metadata": {},
     "output_type": "execute_result"
    }
   ],
   "source": [
    "test6('saif','sudh')"
   ]
  },
  {
   "cell_type": "code",
   "execution_count": 25,
   "id": "dea46308-36c0-4bad-9511-c6dc318a79d6",
   "metadata": {},
   "outputs": [],
   "source": [
    "l = [1,2,3,4,'saif','sudh',[1,2,3,4,5]]"
   ]
  },
  {
   "cell_type": "code",
   "execution_count": 26,
   "id": "a350a82e-84e2-4859-ac94-021912ad2995",
   "metadata": {},
   "outputs": [
    {
     "data": {
      "text/plain": [
       "[1, 2, 3, 4, 'saif', 'sudh', [1, 2, 3, 4, 5]]"
      ]
     },
     "execution_count": 26,
     "metadata": {},
     "output_type": "execute_result"
    }
   ],
   "source": [
    "l"
   ]
  },
  {
   "cell_type": "code",
   "execution_count": 27,
   "id": "226d6725-333f-4ab8-be65-c8406fd30769",
   "metadata": {},
   "outputs": [
    {
     "data": {
      "text/plain": [
       "[1, 2, 3, 4]"
      ]
     },
     "execution_count": 27,
     "metadata": {},
     "output_type": "execute_result"
    }
   ],
   "source": [
    "l1 = []\n",
    "for i in l :\n",
    "    if type(i)==int or type(i)==float :\n",
    "        l1.append(i)\n",
    "l1"
   ]
  },
  {
   "cell_type": "code",
   "execution_count": 28,
   "id": "f574092c-b3f3-4a88-9ae4-4eaa205273fb",
   "metadata": {},
   "outputs": [],
   "source": [
    "l = [1,2,3,4,'saif','sudh',[1,2,3,4,5]]\n",
    "def test7(l):\n",
    "    l1 = []\n",
    "    for i in l :\n",
    "        if type(i)==int or type(i)==float :\n",
    "            l1.append(i)\n",
    "    return l1"
   ]
  },
  {
   "cell_type": "code",
   "execution_count": 29,
   "id": "2b42bc46-259d-456d-b35a-e0e565901308",
   "metadata": {},
   "outputs": [
    {
     "data": {
      "text/plain": [
       "[1, 2, 3, 4]"
      ]
     },
     "execution_count": 29,
     "metadata": {},
     "output_type": "execute_result"
    }
   ],
   "source": [
    "test7(l)"
   ]
  },
  {
   "cell_type": "code",
   "execution_count": 30,
   "id": "550020b5-c785-48dc-9869-75be85f0f877",
   "metadata": {},
   "outputs": [
    {
     "data": {
      "text/plain": [
       "[1, 2, 3, 4, 'saif', 'sudh', [1, 2, 3, 4, 5]]"
      ]
     },
     "execution_count": 30,
     "metadata": {},
     "output_type": "execute_result"
    }
   ],
   "source": [
    "l"
   ]
  },
  {
   "cell_type": "code",
   "execution_count": 31,
   "id": "89dfec54-a1a1-4cf2-89ee-29d4c9997d6a",
   "metadata": {},
   "outputs": [],
   "source": [
    "def test8(a) :\n",
    "    l1 = []\n",
    "    for i in a :\n",
    "        if type(i) == list :\n",
    "            for j in i :\n",
    "                l1.append(j)\n",
    "        else :\n",
    "            if type(i) == int :\n",
    "                l1.append(i)\n",
    "    return l1"
   ]
  },
  {
   "cell_type": "code",
   "execution_count": 32,
   "id": "7e114051-4681-4cd9-b474-a720cbcec152",
   "metadata": {},
   "outputs": [
    {
     "data": {
      "text/plain": [
       "[1, 2, 3, 4, 1, 2, 3, 4, 5]"
      ]
     },
     "execution_count": 32,
     "metadata": {},
     "output_type": "execute_result"
    }
   ],
   "source": [
    "test8(l)"
   ]
  },
  {
   "cell_type": "code",
   "execution_count": 33,
   "id": "8a38928a-a9d3-4258-9f1b-8c8119c9ce6f",
   "metadata": {},
   "outputs": [],
   "source": [
    "def test9(a) :\n",
    "    \"\"\"my name is saif\"\"\"\n",
    "    l1 = []\n",
    "    for i in a :\n",
    "        if type(i) == list :\n",
    "            for j in i :\n",
    "                l1.append(j)\n",
    "        else :\n",
    "            if type(i) == int :\n",
    "                l1.append(i)\n",
    "    return l1"
   ]
  },
  {
   "cell_type": "code",
   "execution_count": 18,
   "id": "75b9d0e2-bad0-4e93-b458-98a8551fd473",
   "metadata": {},
   "outputs": [
    {
     "data": {
      "text/plain": [
       "[1, 2, 3, 4, 1, 2, 3, 4, 5]"
      ]
     },
     "execution_count": 18,
     "metadata": {},
     "output_type": "execute_result"
    }
   ],
   "source": [
    "test9(l)"
   ]
  },
  {
   "cell_type": "code",
   "execution_count": 20,
   "id": "82276ff6-e5bc-4d02-9ddd-66666cfcb933",
   "metadata": {},
   "outputs": [],
   "source": [
    "def test10(a,b) :\n",
    "    return a+b"
   ]
  },
  {
   "cell_type": "code",
   "execution_count": 21,
   "id": "eb555efc-7ac4-4386-9f49-7984f9ed2d4e",
   "metadata": {},
   "outputs": [
    {
     "data": {
      "text/plain": [
       "5"
      ]
     },
     "execution_count": 21,
     "metadata": {},
     "output_type": "execute_result"
    }
   ],
   "source": [
    "test10(2,3)"
   ]
  },
  {
   "cell_type": "code",
   "execution_count": 22,
   "id": "9ca1de2a-0847-496d-982d-6e5e0244bc8a",
   "metadata": {},
   "outputs": [],
   "source": [
    "def test11(*args) :\n",
    "    return args"
   ]
  },
  {
   "cell_type": "code",
   "execution_count": 23,
   "id": "a1070d31-6f37-4075-8fd5-491e74b71c34",
   "metadata": {},
   "outputs": [
    {
     "data": {
      "text/plain": [
       "()"
      ]
     },
     "execution_count": 23,
     "metadata": {},
     "output_type": "execute_result"
    }
   ],
   "source": [
    "test11()"
   ]
  },
  {
   "cell_type": "code",
   "execution_count": 24,
   "id": "c396d813-026b-4b46-969f-dbbc854c462a",
   "metadata": {},
   "outputs": [
    {
     "data": {
      "text/plain": [
       "tuple"
      ]
     },
     "execution_count": 24,
     "metadata": {},
     "output_type": "execute_result"
    }
   ],
   "source": [
    "type(test11())"
   ]
  },
  {
   "cell_type": "code",
   "execution_count": 25,
   "id": "0a906387-bb40-47b1-8709-82fac4e42dee",
   "metadata": {},
   "outputs": [
    {
     "data": {
      "text/plain": [
       "(1, 2, 3)"
      ]
     },
     "execution_count": 25,
     "metadata": {},
     "output_type": "execute_result"
    }
   ],
   "source": [
    "test11(1,2,3)"
   ]
  },
  {
   "cell_type": "code",
   "execution_count": 27,
   "id": "ca773310-366b-499b-9fac-570352709d0e",
   "metadata": {},
   "outputs": [
    {
     "data": {
      "text/plain": [
       "(1, 2, 3, 'saif', [1, 2, 3, 4])"
      ]
     },
     "execution_count": 27,
     "metadata": {},
     "output_type": "execute_result"
    }
   ],
   "source": [
    "test11(1,2,3,'saif',[1,2,3,4])"
   ]
  },
  {
   "cell_type": "code",
   "execution_count": 32,
   "id": "64c0fed0-68f4-49f1-93cb-ce82450adf63",
   "metadata": {},
   "outputs": [],
   "source": [
    "def test12(*saif) :\n",
    "    return saif"
   ]
  },
  {
   "cell_type": "code",
   "execution_count": 36,
   "id": "66a1a17e-86c9-4249-b13c-c57ddb7d6c4e",
   "metadata": {},
   "outputs": [
    {
     "data": {
      "text/plain": [
       "(1, 2, 3, 4, 5, 8, 6)"
      ]
     },
     "execution_count": 36,
     "metadata": {},
     "output_type": "execute_result"
    }
   ],
   "source": [
    "test12(1,2,3,4,5,8,6)"
   ]
  },
  {
   "cell_type": "code",
   "execution_count": 37,
   "id": "f4f2bd21-3420-4c33-a44a-312babfd217e",
   "metadata": {},
   "outputs": [],
   "source": [
    "def test13(*args,a):\n",
    "    return args , a"
   ]
  },
  {
   "cell_type": "code",
   "execution_count": 38,
   "id": "aa188104-bbc9-416b-a830-d5008c138e2d",
   "metadata": {},
   "outputs": [
    {
     "data": {
      "text/plain": [
       "((1, 2, 3), 10)"
      ]
     },
     "execution_count": 38,
     "metadata": {},
     "output_type": "execute_result"
    }
   ],
   "source": [
    "test13(1,2,3,a =10)"
   ]
  },
  {
   "cell_type": "code",
   "execution_count": 34,
   "id": "8861dc53-d7e8-4139-aca0-dd3b30b01dfd",
   "metadata": {},
   "outputs": [],
   "source": [
    "def test14(c,d,a=10,b=20) :\n",
    "    return a,b,c,d"
   ]
  },
  {
   "cell_type": "code",
   "execution_count": 35,
   "id": "8bcf7ba7-16b3-42d9-ba43-f16439ac570d",
   "metadata": {},
   "outputs": [
    {
     "data": {
      "text/plain": [
       "(10, 20, 30, 40)"
      ]
     },
     "execution_count": 35,
     "metadata": {},
     "output_type": "execute_result"
    }
   ],
   "source": [
    "test14(30,40)"
   ]
  },
  {
   "cell_type": "code",
   "execution_count": 36,
   "id": "50e3d3ba-2e1c-4892-981c-23a5eb7bf663",
   "metadata": {},
   "outputs": [
    {
     "data": {
      "text/plain": [
       "(50, 60, 30, 40)"
      ]
     },
     "execution_count": 36,
     "metadata": {},
     "output_type": "execute_result"
    }
   ],
   "source": [
    "test14(30,40,50,60)"
   ]
  },
  {
   "cell_type": "code",
   "execution_count": 37,
   "id": "068a7e46-ae77-46e6-b7a9-4b5b0ce26cd5",
   "metadata": {},
   "outputs": [],
   "source": [
    "def test15(**kwargs) :\n",
    "    return kwargs"
   ]
  },
  {
   "cell_type": "code",
   "execution_count": 38,
   "id": "b077c610-c8c9-4810-8425-118ee656ae1c",
   "metadata": {},
   "outputs": [
    {
     "data": {
      "text/plain": [
       "{}"
      ]
     },
     "execution_count": 38,
     "metadata": {},
     "output_type": "execute_result"
    }
   ],
   "source": [
    "test15()"
   ]
  },
  {
   "cell_type": "code",
   "execution_count": 39,
   "id": "4347257d-d316-414e-9b63-3c83bd367a5d",
   "metadata": {},
   "outputs": [
    {
     "data": {
      "text/plain": [
       "dict"
      ]
     },
     "execution_count": 39,
     "metadata": {},
     "output_type": "execute_result"
    }
   ],
   "source": [
    "type(test15())"
   ]
  },
  {
   "cell_type": "code",
   "execution_count": 40,
   "id": "18b2f6e5-6eeb-4cdb-b65e-76c8bf7e1656",
   "metadata": {},
   "outputs": [
    {
     "data": {
      "text/plain": [
       "{'a': [1, 2, 3, 4], 'b': 'saif'}"
      ]
     },
     "execution_count": 40,
     "metadata": {},
     "output_type": "execute_result"
    }
   ],
   "source": [
    "test15(a=[1,2,3,4] , b='saif')"
   ]
  },
  {
   "cell_type": "code",
   "execution_count": 42,
   "id": "22f3c82c-76d7-4179-8dac-dae4ab31504d",
   "metadata": {},
   "outputs": [
    {
     "name": "stdin",
     "output_type": "stream",
     "text": [
      "Enter first number 5\n",
      "Enter second number 5\n"
     ]
    }
   ],
   "source": [
    "a = int(input('Enter first number'))\n",
    "b = int(input('Enter second number'))\n",
    "def test16(a,b) :\n",
    "    return a + b"
   ]
  },
  {
   "cell_type": "code",
   "execution_count": 43,
   "id": "03ad9d7a-dd2a-4e25-91c9-da8932cb98f6",
   "metadata": {},
   "outputs": [
    {
     "data": {
      "text/plain": [
       "10"
      ]
     },
     "execution_count": 43,
     "metadata": {},
     "output_type": "execute_result"
    }
   ],
   "source": [
    "test16(a,b)"
   ]
  },
  {
   "cell_type": "code",
   "execution_count": null,
   "id": "1c92bf31-9b57-43b0-b301-b46e40e4f591",
   "metadata": {},
   "outputs": [],
   "source": []
  }
 ],
 "metadata": {
  "kernelspec": {
   "display_name": "Python 3 (ipykernel)",
   "language": "python",
   "name": "python3"
  },
  "language_info": {
   "codemirror_mode": {
    "name": "ipython",
    "version": 3
   },
   "file_extension": ".py",
   "mimetype": "text/x-python",
   "name": "python",
   "nbconvert_exporter": "python",
   "pygments_lexer": "ipython3",
   "version": "3.10.8"
  }
 },
 "nbformat": 4,
 "nbformat_minor": 5
}
