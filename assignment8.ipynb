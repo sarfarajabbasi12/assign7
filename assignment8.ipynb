{
 "cells": [
  {
   "cell_type": "code",
   "execution_count": 1,
   "id": "db5f142b-0e78-4151-a325-cfaa18f97e0b",
   "metadata": {},
   "outputs": [],
   "source": [
    "# Q1. Which function is used to open a file? What are the different modes of opening a file? Explain each mode of file opening."
   ]
  },
  {
   "cell_type": "code",
   "execution_count": 2,
   "id": "0456b8cb-96a8-495c-b671-6e0bc1aab97f",
   "metadata": {},
   "outputs": [],
   "source": [
    "#Ans = we can use the open() function to open a file . "
   ]
  },
  {
   "cell_type": "code",
   "execution_count": 3,
   "id": "b093b67c-fadd-4bf3-9a31-ec38724315ff",
   "metadata": {},
   "outputs": [],
   "source": [
    "# The various modes of opening a file such as:-\n",
    "# 'r'    open for reading (default)\n",
    "# 'w'    open for writing, truncating the file first\n",
    "# 'x'    create a new file and open it for writing\n",
    "# 'a'    open for writing, appending to the end of the file if it exists\n",
    "# 'b'    binary mode\n",
    "# 't'    text mode (default)\n",
    "# '+'    open a disk file for updating (reading and writing)\n",
    "# 'U'    universal newline mode (deprecated)"
   ]
  },
  {
   "cell_type": "code",
   "execution_count": 4,
   "id": "c1dd19e2-02b8-4bcb-9451-d188bb938a08",
   "metadata": {},
   "outputs": [],
   "source": [
    "# Q2. Why close() function is used? Why is it important to close a file?"
   ]
  },
  {
   "cell_type": "code",
   "execution_count": 5,
   "id": "4f1768e4-cabe-4a5c-a460-81d516b4f00e",
   "metadata": {},
   "outputs": [],
   "source": [
    "# Ans = The close() function or method is used to close an open file. It's important to close a file properly after you're done with it for \n",
    "# several reasons...."
   ]
  },
  {
   "cell_type": "code",
   "execution_count": 6,
   "id": "9277bfb5-458e-4b0b-9ae5-95df5736caa8",
   "metadata": {},
   "outputs": [],
   "source": [
    "# Why is it important to close a file? =>If we do not close the file then we will not able to see the data in the file...  "
   ]
  },
  {
   "cell_type": "code",
   "execution_count": 7,
   "id": "daa492a0-cab0-4c70-a1c2-c6412b4b22b8",
   "metadata": {},
   "outputs": [],
   "source": [
    "# Q3. Write a python program to create a text file. Write 'I want to become a Data Scientist' in that file. Then close the file. \n",
    "# Open this file and read the content of the file."
   ]
  },
  {
   "cell_type": "code",
   "execution_count": 8,
   "id": "160fa42e-212f-4b32-8eae-64d2c8407d4e",
   "metadata": {},
   "outputs": [],
   "source": [
    "with open('text.txt' , 'w') as f : #by using an (with) function we do not need to clase a file...\n",
    "    f.write('I want to become a Data Scientist')"
   ]
  },
  {
   "cell_type": "code",
   "execution_count": 9,
   "id": "bf6a0413-d153-4c3d-a244-52eb169f6b8d",
   "metadata": {},
   "outputs": [],
   "source": [
    "with open('text.txt' , 'r') as f :\n",
    "    a = f.read()"
   ]
  },
  {
   "cell_type": "code",
   "execution_count": 10,
   "id": "5a85e78b-c2ff-40f5-b577-7cbaf2318a10",
   "metadata": {},
   "outputs": [
    {
     "data": {
      "text/plain": [
       "'I want to become a Data Scientist'"
      ]
     },
     "execution_count": 10,
     "metadata": {},
     "output_type": "execute_result"
    }
   ],
   "source": [
    "a"
   ]
  },
  {
   "cell_type": "code",
   "execution_count": 11,
   "id": "7434ab8a-c2c8-4fbc-9973-75018146cf33",
   "metadata": {},
   "outputs": [],
   "source": [
    "# Q4. Explain the following with python code: read(), readline() and readlines()."
   ]
  },
  {
   "cell_type": "code",
   "execution_count": 12,
   "id": "a6cd1995-5e99-4ae1-912e-cf259706e6ad",
   "metadata": {},
   "outputs": [],
   "source": [
    "# 'read()' => The 'read() method is used to read the entire contents of a file as a string.\n",
    "# Ex:- Opening and reading a file using read()\n",
    "# with open(\"sample.txt\", \"r\") as file:\n",
    "#     content = file.read()\n",
    "#     print(content)\n",
    "    \n",
    "    \n",
    "# 'The readline()' => This method is used to reads a single line from the file at the current position of the file.\n",
    "# Ex:- Opening and reading lines from a file using readline()\n",
    "# with open(\"sample.txt\", \"r\") as file:\n",
    "#     line1 = file.readline()\n",
    "#     line2 = file.readline()\n",
    "#     print(\"Line 1:\", line1)\n",
    "#     print(\"Line 2:\", line2)\n",
    "\n",
    "    \n",
    "# 'The readlines()' => This method is used to reads all lines from the file \n",
    "# Ex:- Opening and reading lines from a file using readlines()\n",
    "# with open(\"sample.txt\", \"r\") as file:\n",
    "#     lines = file.readlines()\n",
    "#     for line in lines:\n",
    "#         print(line)\n"
   ]
  },
  {
   "cell_type": "code",
   "execution_count": 13,
   "id": "8debd855-9560-473a-befe-5f56061e3385",
   "metadata": {},
   "outputs": [],
   "source": [
    "# Q5. Explain why with statement is used with open(). What is the advantage of using with statement and open() together?"
   ]
  },
  {
   "cell_type": "code",
   "execution_count": 14,
   "id": "e502dfd8-f0d4-45ca-b00a-55107816dafa",
   "metadata": {},
   "outputs": [],
   "source": [
    "# Ans = The with statement in Python is used with the open() function for two reasons: automatic resource management and better error handling.\n",
    "# The main advantage of using the with statement with open() is that it automatically close the file..."
   ]
  },
  {
   "cell_type": "code",
   "execution_count": 15,
   "id": "6d39354b-8b63-44f5-8578-66730f1650ad",
   "metadata": {},
   "outputs": [],
   "source": [
    "# Q6. Explain the write() and writelines() functions. Give a suitable example."
   ]
  },
  {
   "cell_type": "code",
   "execution_count": 16,
   "id": "eb61e8a7-c865-4ee9-ae73-56e33bb06257",
   "metadata": {},
   "outputs": [],
   "source": [
    "# Ans = In Python, the write() and writelines() functions are used to write data to a file."
   ]
  },
  {
   "cell_type": "code",
   "execution_count": 17,
   "id": "826ba65b-58c6-49de-844d-c8ae0c27f4cc",
   "metadata": {},
   "outputs": [],
   "source": [
    "# 1.The write() function is used to write a string to the file.\n",
    "# Ex :-\n",
    "# Writing data to a file using the write() function\n",
    "# with open(\"output.txt\", \"w\") as file:\n",
    "#     file.write(\"Hello, this is line 1.\\n\")\n",
    "#     file.write(\"And this is line 2.\\n\")"
   ]
  },
  {
   "cell_type": "code",
   "execution_count": 18,
   "id": "55e40a49-a0eb-4bdb-b57d-523adca7d29a",
   "metadata": {},
   "outputs": [],
   "source": [
    "# 2.The writelines() function is used to write a list of strings to the file. \n",
    "# Ex:-\n",
    "# #Writing data to a file using the writelines() function\n",
    "# lines = [\"Line 1\\n\", \"Line 2\\n\", \"Line 3\\n\"]\n",
    "# with open(\"output.txt\", \"w\") as file:\n",
    "#     file.writelines(lines)\n"
   ]
  },
  {
   "cell_type": "code",
   "execution_count": null,
   "id": "397323a0-d923-43b7-b749-bcbb986c7b69",
   "metadata": {},
   "outputs": [],
   "source": []
  }
 ],
 "metadata": {
  "kernelspec": {
   "display_name": "Python 3 (ipykernel)",
   "language": "python",
   "name": "python3"
  },
  "language_info": {
   "codemirror_mode": {
    "name": "ipython",
    "version": 3
   },
   "file_extension": ".py",
   "mimetype": "text/x-python",
   "name": "python",
   "nbconvert_exporter": "python",
   "pygments_lexer": "ipython3",
   "version": "3.10.8"
  }
 },
 "nbformat": 4,
 "nbformat_minor": 5
}
