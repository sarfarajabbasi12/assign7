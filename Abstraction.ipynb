{
 "cells": [
  {
   "cell_type": "code",
   "execution_count": 1,
   "id": "d803505e-16eb-42b8-82c0-3fb549ea9a83",
   "metadata": {},
   "outputs": [],
   "source": [
    "# Abstraction use for scaletun and ready to blueprint"
   ]
  },
  {
   "cell_type": "code",
   "execution_count": 2,
   "id": "edc85c59-b8e2-4b58-996b-a4e57ae58a36",
   "metadata": {},
   "outputs": [],
   "source": [
    "import abc\n",
    "class pwskills :\n",
    "    \n",
    "    \n",
    "    @abc.abstractmethod\n",
    "    def student_details(self) :\n",
    "        pass\n",
    "    @abc.abstractmethod\n",
    "    def student_assignment(self) :\n",
    "        pass\n",
    "    @abc.abstractmethod\n",
    "    def student_marks(self) :\n",
    "        pass"
   ]
  },
  {
   "cell_type": "code",
   "execution_count": 3,
   "id": "7fccebf5-0dcc-4e28-9821-5b2d861f1037",
   "metadata": {},
   "outputs": [],
   "source": [
    "class student_details(pwskills):\n",
    "    \n",
    "    def student_details(self) :\n",
    "        return 'This is a method for taking student details'\n",
    "    \n",
    "    def student_assignment(self) :\n",
    "        return 'This is a method for taking student details'"
   ]
  },
  {
   "cell_type": "code",
   "execution_count": 4,
   "id": "e38f75ae-4813-46e3-aad0-eee930420f14",
   "metadata": {},
   "outputs": [],
   "source": [
    "class data_science_master(pwskills) :\n",
    "    def student_details(self) :\n",
    "        return 'This will return a student details for ds'\n",
    "    def student_assignment(self) :\n",
    "        return 'This will give you a student assignment details for ds'"
   ]
  },
  {
   "cell_type": "code",
   "execution_count": 5,
   "id": "b2cde8ca-2385-4537-a03e-985fd79802ee",
   "metadata": {},
   "outputs": [],
   "source": [
    "obj = data_science_master()"
   ]
  },
  {
   "cell_type": "code",
   "execution_count": 6,
   "id": "b8c9c9f4-e631-4b16-b061-e8d8d62a737a",
   "metadata": {},
   "outputs": [
    {
     "data": {
      "text/plain": [
       "'This will return a student details for ds'"
      ]
     },
     "execution_count": 6,
     "metadata": {},
     "output_type": "execute_result"
    }
   ],
   "source": [
    "obj.student_details()"
   ]
  },
  {
   "cell_type": "code",
   "execution_count": 7,
   "id": "81201e9c-b6cc-4bc8-b52f-700591ea1adc",
   "metadata": {},
   "outputs": [],
   "source": [
    "obj.student_marks()"
   ]
  },
  {
   "cell_type": "code",
   "execution_count": 8,
   "id": "c47d926c-17cf-4729-8ca4-f053802ceb07",
   "metadata": {},
   "outputs": [],
   "source": [
    "o = student_details()"
   ]
  },
  {
   "cell_type": "code",
   "execution_count": 9,
   "id": "d3a8ca88-b808-47a2-a979-c6d691acc6c0",
   "metadata": {},
   "outputs": [
    {
     "data": {
      "text/plain": [
       "'This is a method for taking student details'"
      ]
     },
     "execution_count": 9,
     "metadata": {},
     "output_type": "execute_result"
    }
   ],
   "source": [
    "o.student_details()"
   ]
  },
  {
   "cell_type": "code",
   "execution_count": 10,
   "id": "1d68be0a-f850-46cb-be8d-82b7989e259c",
   "metadata": {},
   "outputs": [
    {
     "data": {
      "text/plain": [
       "'This is a method for taking student details'"
      ]
     },
     "execution_count": 10,
     "metadata": {},
     "output_type": "execute_result"
    }
   ],
   "source": [
    "o.student_assignment()"
   ]
  },
  {
   "cell_type": "code",
   "execution_count": 11,
   "id": "6cd0f0cc-b252-4e7d-80d1-99aecde3fb8b",
   "metadata": {},
   "outputs": [],
   "source": [
    "import abc \n",
    "class A :\n",
    "    \n",
    "    @abc.abstractmethod\n",
    "    def s_d(self) :\n",
    "        pass \n",
    "    @abc.abstractmethod\n",
    "    def s_a(self) :\n",
    "        pass"
   ]
  },
  {
   "cell_type": "code",
   "execution_count": 12,
   "id": "4b5bfe21-ec0a-4cec-a2e7-1115c252a400",
   "metadata": {},
   "outputs": [],
   "source": [
    "class B(A) :\n",
    "    \n",
    "    def s_d(self) :\n",
    "        return 'This is a s_d'\n",
    "    def s_a(self) :\n",
    "        return 'This is a s_a'"
   ]
  },
  {
   "cell_type": "code",
   "execution_count": 13,
   "id": "943ef38f-0a38-40db-accf-040ca9c70572",
   "metadata": {},
   "outputs": [],
   "source": [
    "class C(A) :\n",
    "    \n",
    "    def s_d(self) :\n",
    "        return 'This is a s_d for data science'\n",
    "    \n",
    "    def s_a(self) :\n",
    "        return 'This is a s_a for data science'"
   ]
  },
  {
   "cell_type": "code",
   "execution_count": 14,
   "id": "35f75530-bc5f-4a68-b561-f4e88c0371ae",
   "metadata": {},
   "outputs": [],
   "source": [
    "o = C()"
   ]
  },
  {
   "cell_type": "code",
   "execution_count": 15,
   "id": "46d8041e-3159-4d6a-8276-dbe4a33c47a4",
   "metadata": {},
   "outputs": [
    {
     "data": {
      "text/plain": [
       "'This is a s_a for data science'"
      ]
     },
     "execution_count": 15,
     "metadata": {},
     "output_type": "execute_result"
    }
   ],
   "source": [
    "o.s_a()"
   ]
  },
  {
   "cell_type": "code",
   "execution_count": 16,
   "id": "34778680-0e9d-4afe-b340-62619209bbd4",
   "metadata": {},
   "outputs": [
    {
     "data": {
      "text/plain": [
       "'This is a s_d for data science'"
      ]
     },
     "execution_count": 16,
     "metadata": {},
     "output_type": "execute_result"
    }
   ],
   "source": [
    "o.s_d()"
   ]
  },
  {
   "cell_type": "code",
   "execution_count": 17,
   "id": "203bee1a-0c33-4214-9751-e18680c92d50",
   "metadata": {},
   "outputs": [],
   "source": [
    "a = B()"
   ]
  },
  {
   "cell_type": "code",
   "execution_count": 18,
   "id": "acea2208-e5f7-4092-8398-d5a4546c4c5d",
   "metadata": {},
   "outputs": [
    {
     "data": {
      "text/plain": [
       "'This is a s_a'"
      ]
     },
     "execution_count": 18,
     "metadata": {},
     "output_type": "execute_result"
    }
   ],
   "source": [
    "a.s_a()"
   ]
  },
  {
   "cell_type": "code",
   "execution_count": 19,
   "id": "a2931823-2e91-4e12-8833-91ce6c50fb3a",
   "metadata": {},
   "outputs": [
    {
     "data": {
      "text/plain": [
       "'This is a s_d'"
      ]
     },
     "execution_count": 19,
     "metadata": {},
     "output_type": "execute_result"
    }
   ],
   "source": [
    "a.s_d()"
   ]
  },
  {
   "cell_type": "code",
   "execution_count": null,
   "id": "0b706f73-7c14-45bf-9648-6031d25f7187",
   "metadata": {},
   "outputs": [],
   "source": []
  }
 ],
 "metadata": {
  "kernelspec": {
   "display_name": "Python 3 (ipykernel)",
   "language": "python",
   "name": "python3"
  },
  "language_info": {
   "codemirror_mode": {
    "name": "ipython",
    "version": 3
   },
   "file_extension": ".py",
   "mimetype": "text/x-python",
   "name": "python",
   "nbconvert_exporter": "python",
   "pygments_lexer": "ipython3",
   "version": "3.10.8"
  }
 },
 "nbformat": 4,
 "nbformat_minor": 5
}
